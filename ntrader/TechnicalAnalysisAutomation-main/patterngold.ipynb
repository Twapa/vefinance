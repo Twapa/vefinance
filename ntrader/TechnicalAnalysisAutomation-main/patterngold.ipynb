{
 "cells": [
  {
   "cell_type": "code",
   "execution_count": 2,
   "metadata": {},
   "outputs": [],
   "source": [
    "import pandas as pd\n",
    "import numpy as np\n",
    "import math\n",
    "import matplotlib.pyplot as plt\n",
    "import mplfinance as mpf\n",
    "from pyclustering.cluster.silhouette import silhouette_ksearch_type, silhouette_ksearch\n",
    "from pyclustering.cluster.kmeans import kmeans\n",
    "from pyclustering.cluster.center_initializer import kmeans_plusplus_initializer\n",
    "from perceptually_important import find_pips"
   ]
  },
  {
   "cell_type": "code",
   "execution_count": 6,
   "metadata": {},
   "outputs": [],
   "source": [
    "data = pd.read_csv('BTCUSDT3600.csv')\n",
    "data['date'] = data['date'].astype('datetime64[s]')\n",
    "data = data.set_index('date')\n",
    "data = np.log(data)\n",
    "data = data[data.index < '01-01-2020']\n",
    "arr = data['close'].to_numpy()\n",
    "\n",
    "n_pips = 5\n",
    "lookback = 24\n",
    "hold_period = 6\n",
    "\n",
    "unique_pip_patterns = []\n",
    "unique_pip_indices = []\n",
    "cluster_centers = []\n",
    "pip_clusters = []\n",
    "\n",
    "cluster_signals = []\n",
    "cluster_objs = []\n",
    "\n",
    "long_signal = None\n",
    "short_signal = None\n",
    "\n",
    "selected_long = []\n",
    "selected_short = []\n",
    "\n",
    "fit_martin = None\n",
    "perm_martins = []\n",
    "        \n",
    "data = None # Array of log closing prices to mine patterns\n",
    "returns = None # Array of next log returns, concurrent with _data"
   ]
  },
  {
   "cell_type": "code",
   "execution_count": 9,
   "metadata": {},
   "outputs": [],
   "source": [
    "def get_fit_martin():\n",
    "    return fit_martin\n",
    "\n",
    "def get_permutation_martins():\n",
    "    return perm_martins"
   ]
  },
  {
   "cell_type": "code",
   "execution_count": 10,
   "metadata": {},
   "outputs": [],
   "source": [
    "def plot_cluster_examples(self, candle_data: pd.DataFrame, cluster_i: int, grid_size: int = 5):\n",
    "    plt.style.use('dark_background')\n",
    "    fig, axs = plt.subplots(grid_size, grid_size)\n",
    "    flat_axs = axs.flatten()\n",
    "    for i in range(len(flat_axs)):\n",
    "        if i >= len(self._pip_clusters[cluster_i]):\n",
    "            break\n",
    "        \n",
    "        pat_i = self._unique_pip_indices[self._pip_clusters[cluster_i][i]]\n",
    "        data_slice = candle_data.iloc[pat_i - self._lookback + 1: pat_i + 1]\n",
    "        idx = data_slice.index\n",
    "        plot_pip_x, plot_pip_y = find_pips(data_slice['close'].to_numpy(), self._n_pips, 3)\n",
    "        \n",
    "        pip_lines = []\n",
    "        colors = []\n",
    "        for line_i in range(self._n_pips - 1):\n",
    "            l0 = [(idx[plot_pip_x[line_i]], plot_pip_y[line_i]), (idx[plot_pip_x[line_i + 1]], plot_pip_y[line_i + 1])]\n",
    "            pip_lines.append(l0)\n",
    "            colors.append('w')\n",
    "\n",
    "        mpf.plot(data_slice, type='candle',alines=dict(alines=pip_lines, colors=colors), ax=flat_axs[i], style='charles', update_width_config=dict(candle_linewidth=1.75) )\n",
    "        flat_axs[i].set_yticklabels([])\n",
    "        flat_axs[i].set_xticklabels([])\n",
    "        flat_axs[i].set_xticks([])\n",
    "        flat_axs[i].set_yticks([])\n",
    "        flat_axs[i].set_ylabel(\"\")\n",
    "\n",
    "    fig.suptitle(f\"Cluster {cluster_i}\", fontsize=32)\n",
    "    plt.show()\n"
   ]
  },
  {
   "cell_type": "code",
   "execution_count": null,
   "metadata": {},
   "outputs": [],
   "source": []
  }
 ],
 "metadata": {
  "kernelspec": {
   "display_name": "Python 3",
   "language": "python",
   "name": "python3"
  },
  "language_info": {
   "codemirror_mode": {
    "name": "ipython",
    "version": 3
   },
   "file_extension": ".py",
   "mimetype": "text/x-python",
   "name": "python",
   "nbconvert_exporter": "python",
   "pygments_lexer": "ipython3",
   "version": "3.11.2"
  }
 },
 "nbformat": 4,
 "nbformat_minor": 2
}
