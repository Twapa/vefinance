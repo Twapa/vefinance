{
 "cells": [
  {
   "cell_type": "code",
   "execution_count": 1,
   "metadata": {},
   "outputs": [],
   "source": [
    "import pandas as pd \n",
    "import numpy as np \n"
   ]
  },
  {
   "cell_type": "code",
   "execution_count": null,
   "metadata": {},
   "outputs": [],
   "source": [
    "def donchian_breakout(df: pd.DataFrame,lookback: int):\n",
    "    df['upper'] =df['close'].rolling(lookback - 1).max().shift\n",
    "    df['lower'] =df['close'].rolling(lookback - 1).max().shift\n",
    "    df['lower'] = np.nan\n",
    "    df.loc[df['close'] > df['upper'],'signal'] = 1\n",
    "    df.loc[df['close'] > df['lower'],'signal'] = -1\n",
    "    df['signal'] = df['signal'].ffill()\n",
    "\n",
    "def signal_returns(df: pd.Dataframe,fee_amt:float = 0.001):\n",
    "    #input df assumed to have close and signal columns\n",
    "    df['log_return'] = np.log(df['close']).diff().shift(-1) #next log return\n",
    "    df['strategy_return'] = df['signal'] * df['log_return']\n",
    "\n",
    "    position_change = df['signal'].diff().abs()\n",
    "    df['strategy_return'] -= position_change * fee_amt\n",
    "    df['equity_curve'] =df['strategy_return'].cumsum()\n",
    "\n",
    "def perfomance_metrics(df: pd.DataFrame, n_bars_in_years: int):\n",
    "    r = df['strategy_return']\n",
    "\n",
    "    # compute perf metrics\n",
    "    profit_factor = r[r>0].sum() / r[r < 0].abs().sum()\n",
    "    sharpe = r.mean() / r.std()\n",
    "    sortino = r.mean() / (r[r < 0].std())\n",
    "\n",
    "    #annualize sharpe and metrics\n",
    "    sharpe *= n_bars_in_years ** 0.5\n",
    "    sortino *= n_bars_in_years ** 0.5\n",
    "\n",
    "    return {\"Profit Factor\": profit_factor, \"sharpe Ratio\": sharpe, \"sortino\": sortino }\n",
    "        "
   ]
  }
 ],
 "metadata": {
  "kernelspec": {
   "display_name": ".venv",
   "language": "python",
   "name": "python3"
  },
  "language_info": {
   "codemirror_mode": {
    "name": "ipython",
    "version": 3
   },
   "file_extension": ".py",
   "mimetype": "text/x-python",
   "name": "python",
   "nbconvert_exporter": "python",
   "pygments_lexer": "ipython3",
   "version": "3.12.1"
  }
 },
 "nbformat": 4,
 "nbformat_minor": 2
}
